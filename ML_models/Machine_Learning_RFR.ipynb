{
 "cells": [
  {
   "cell_type": "code",
   "execution_count": 1,
   "id": "a14041d5",
   "metadata": {},
   "outputs": [],
   "source": [
    "# Import pandas and numpy\n",
    "import pandas as pd \n",
    "import numpy as np\n",
    "\n",
    "# Import for splitting data into train & test for the ML models\n",
    "from sklearn.model_selection import train_test_split\n",
    "\n",
    "# Import Machine Learning Linear regression models\n",
    "from sklearn.linear_model import LinearRegression\n",
    "from sklearn.ensemble import RandomForestRegressor\n",
    "from sklearn.svm import SVR\n",
    "from sklearn.metrics import accuracy_score\n",
    "\n",
    "# Import neural network modules\n",
    "import tensorflow as tf\n",
    "from tensorflow import keras\n",
    "from tensorflow.keras.models import Sequential\n",
    "from tensorflow.keras.layers import Dense\n",
    "\n",
    "# Import standard scaler for scaling the data\n",
    "from sklearn.preprocessing import StandardScaler\n",
    "\n",
    "# Import metrics to calculate accuracy of models\n",
    "from sklearn.metrics import mean_squared_error, r2_score"
   ]
  },
  {
   "cell_type": "code",
   "execution_count": 2,
   "id": "89f01f91",
   "metadata": {},
   "outputs": [
    {
     "data": {
      "text/html": [
       "<div>\n",
       "<style scoped>\n",
       "    .dataframe tbody tr th:only-of-type {\n",
       "        vertical-align: middle;\n",
       "    }\n",
       "\n",
       "    .dataframe tbody tr th {\n",
       "        vertical-align: top;\n",
       "    }\n",
       "\n",
       "    .dataframe thead th {\n",
       "        text-align: right;\n",
       "    }\n",
       "</style>\n",
       "<table border=\"1\" class=\"dataframe\">\n",
       "  <thead>\n",
       "    <tr style=\"text-align: right;\">\n",
       "      <th></th>\n",
       "      <th>country_name</th>\n",
       "      <th>Year</th>\n",
       "      <th>urbanization</th>\n",
       "      <th>gdp_per_cap</th>\n",
       "      <th>inflation</th>\n",
       "      <th>gdp_current</th>\n",
       "      <th>unemployment</th>\n",
       "      <th>literacy_adult</th>\n",
       "      <th>health_exp</th>\n",
       "      <th>literacy_youth</th>\n",
       "      <th>life_exp</th>\n",
       "      <th>re_consumption</th>\n",
       "      <th>ff_consumption</th>\n",
       "      <th>energy_use</th>\n",
       "    </tr>\n",
       "  </thead>\n",
       "  <tbody>\n",
       "    <tr>\n",
       "      <th>0</th>\n",
       "      <td>Canada</td>\n",
       "      <td>1971</td>\n",
       "      <td>76.090</td>\n",
       "      <td>4520.162878</td>\n",
       "      <td>2.704918</td>\n",
       "      <td>9.927196e+10</td>\n",
       "      <td>6.400000</td>\n",
       "      <td>81.228489</td>\n",
       "      <td>6.204456</td>\n",
       "      <td>88.205112</td>\n",
       "      <td>73.029268</td>\n",
       "      <td>30.497158</td>\n",
       "      <td>84.154154</td>\n",
       "      <td>6436.226256</td>\n",
       "    </tr>\n",
       "    <tr>\n",
       "      <th>1</th>\n",
       "      <td>Afghanistan</td>\n",
       "      <td>1971</td>\n",
       "      <td>12.021</td>\n",
       "      <td>166.224831</td>\n",
       "      <td>25.565204</td>\n",
       "      <td>1.831109e+09</td>\n",
       "      <td>8.118803</td>\n",
       "      <td>81.228489</td>\n",
       "      <td>6.204456</td>\n",
       "      <td>88.205112</td>\n",
       "      <td>37.923000</td>\n",
       "      <td>30.497158</td>\n",
       "      <td>65.539705</td>\n",
       "      <td>2326.432009</td>\n",
       "    </tr>\n",
       "    <tr>\n",
       "      <th>2</th>\n",
       "      <td>Albania</td>\n",
       "      <td>1971</td>\n",
       "      <td>31.933</td>\n",
       "      <td>10212.316586</td>\n",
       "      <td>25.565204</td>\n",
       "      <td>2.063322e+11</td>\n",
       "      <td>8.118803</td>\n",
       "      <td>81.228489</td>\n",
       "      <td>6.204456</td>\n",
       "      <td>88.205112</td>\n",
       "      <td>65.618000</td>\n",
       "      <td>30.497158</td>\n",
       "      <td>74.660703</td>\n",
       "      <td>785.161526</td>\n",
       "    </tr>\n",
       "    <tr>\n",
       "      <th>3</th>\n",
       "      <td>Algeria</td>\n",
       "      <td>1971</td>\n",
       "      <td>39.665</td>\n",
       "      <td>359.824582</td>\n",
       "      <td>2.626642</td>\n",
       "      <td>5.077222e+09</td>\n",
       "      <td>8.118803</td>\n",
       "      <td>81.228489</td>\n",
       "      <td>6.204456</td>\n",
       "      <td>88.205112</td>\n",
       "      <td>43.670000</td>\n",
       "      <td>30.497158</td>\n",
       "      <td>98.999816</td>\n",
       "      <td>245.527602</td>\n",
       "    </tr>\n",
       "    <tr>\n",
       "      <th>4</th>\n",
       "      <td>American Samoa</td>\n",
       "      <td>1971</td>\n",
       "      <td>70.784</td>\n",
       "      <td>10212.316586</td>\n",
       "      <td>25.565204</td>\n",
       "      <td>2.063322e+11</td>\n",
       "      <td>8.118803</td>\n",
       "      <td>81.228489</td>\n",
       "      <td>6.204456</td>\n",
       "      <td>88.205112</td>\n",
       "      <td>66.294149</td>\n",
       "      <td>30.497158</td>\n",
       "      <td>65.539705</td>\n",
       "      <td>2326.432009</td>\n",
       "    </tr>\n",
       "  </tbody>\n",
       "</table>\n",
       "</div>"
      ],
      "text/plain": [
       "     country_name  Year  urbanization   gdp_per_cap  inflation   gdp_current  \\\n",
       "0          Canada  1971        76.090   4520.162878   2.704918  9.927196e+10   \n",
       "1     Afghanistan  1971        12.021    166.224831  25.565204  1.831109e+09   \n",
       "2         Albania  1971        31.933  10212.316586  25.565204  2.063322e+11   \n",
       "3         Algeria  1971        39.665    359.824582   2.626642  5.077222e+09   \n",
       "4  American Samoa  1971        70.784  10212.316586  25.565204  2.063322e+11   \n",
       "\n",
       "   unemployment  literacy_adult  health_exp  literacy_youth   life_exp  \\\n",
       "0      6.400000       81.228489    6.204456       88.205112  73.029268   \n",
       "1      8.118803       81.228489    6.204456       88.205112  37.923000   \n",
       "2      8.118803       81.228489    6.204456       88.205112  65.618000   \n",
       "3      8.118803       81.228489    6.204456       88.205112  43.670000   \n",
       "4      8.118803       81.228489    6.204456       88.205112  66.294149   \n",
       "\n",
       "   re_consumption  ff_consumption   energy_use  \n",
       "0       30.497158       84.154154  6436.226256  \n",
       "1       30.497158       65.539705  2326.432009  \n",
       "2       30.497158       74.660703   785.161526  \n",
       "3       30.497158       98.999816   245.527602  \n",
       "4       30.497158       65.539705  2326.432009  "
      ]
     },
     "execution_count": 2,
     "metadata": {},
     "output_type": "execute_result"
    }
   ],
   "source": [
    "# Read the cleaned country data CSV file\n",
    "df = pd.read_csv(\"../Resources/merged_df.csv\", encoding =\"unicode_escape\")\n",
    "world_df = df.copy()\n",
    "world_df.head()"
   ]
  },
  {
   "cell_type": "markdown",
   "id": "92e4b445",
   "metadata": {},
   "source": [
    "### Random Forest Regressor model"
   ]
  },
  {
   "cell_type": "code",
   "execution_count": 3,
   "id": "609bdbec",
   "metadata": {},
   "outputs": [
    {
     "data": {
      "text/plain": [
       "RandomForestRegressor(n_estimators=1000, random_state=42)"
      ]
     },
     "execution_count": 3,
     "metadata": {},
     "output_type": "execute_result"
    }
   ],
   "source": [
    "# Setting features dataframe and target vector\n",
    "X = world_df.drop([\"gdp_current\", \"country_name\", \"Year\", \"gdp_per_cap\"], axis=1)\n",
    "y = world_df[\"gdp_current\"]\n",
    "\n",
    "# Split the data into a training and test set\n",
    "X_train, X_test, y_train, y_test = train_test_split(X, y, test_size=0.2)\n",
    "\n",
    "# Create the random forest regressor model\n",
    "rfr_model = RandomForestRegressor(n_estimators=1000, random_state=42)\n",
    "\n",
    "# Fit the model\n",
    "rfr_model.fit(X_train, y_train)"
   ]
  },
  {
   "cell_type": "code",
   "execution_count": 4,
   "id": "1ba4ef37",
   "metadata": {},
   "outputs": [
    {
     "name": "stdout",
     "output_type": "stream",
     "text": [
      "Model's Performance on Testing Data (20% of all data).\n",
      "\n",
      "Evaluation metrics of World's Data (1971-2021)\n",
      "====================\n",
      "Test accuracy: 78.58%\n",
      "R2 Score: 78.58%\n"
     ]
    }
   ],
   "source": [
    "# Make predictions on the test data set\n",
    "y_pred = rfr_model.predict(X_test)\n",
    "\n",
    "print(\"Model's Performance on Testing Data (20% of all data).\\n\")\n",
    "print(\"Evaluation metrics of World's Data (1971-2021)\")\n",
    "print(\"====================\")\n",
    "# Calculate the accuracy of the RFR model\n",
    "score = rfr_model.score(X_test, y_test)\n",
    "print(f\"Test accuracy: {np.round(score * 100, 2)}%\")\n",
    "\n",
    "# Calculate the r2_score of RFR model\n",
    "r2_score_ = r2_score(y_test,y_pred)\n",
    "print(f\"R2 Score: {np.round(r2_score_ * 100, 2)}%\")"
   ]
  },
  {
   "cell_type": "code",
   "execution_count": 5,
   "id": "ba0bfcc9",
   "metadata": {},
   "outputs": [
    {
     "name": "stdout",
     "output_type": "stream",
     "text": [
      "Model's Performance on Training Data (80% of all data).\n",
      "\n",
      "Evaluation metrics of World's Data (1971-2021)\n",
      "====================\n",
      "Test accuracy: 95.6%\n",
      "R2 Score: 95.6%\n"
     ]
    }
   ],
   "source": [
    "# Make predictions on the training data - to check if there's overfitting\n",
    "y_pred = rfr_model.predict(X_train)\n",
    "\n",
    "print(\"Model's Performance on Training Data (80% of all data).\\n\")\n",
    "print(\"Evaluation metrics of World's Data (1971-2021)\")\n",
    "print(\"====================\")\n",
    "# Calculate the accuracy of the RFR model\n",
    "score = rfr_model.score(X_train, y_train)\n",
    "print(f\"Test accuracy: {np.round(score * 100, 2)}%\")\n",
    "\n",
    "# Calculate the r2_score of RFR model\n",
    "r2_score_ = r2_score(y_train,y_pred)\n",
    "print(f\"R2 Score: {np.round(r2_score_ * 100, 2)}%\")"
   ]
  },
  {
   "cell_type": "markdown",
   "id": "9a64f160",
   "metadata": {},
   "source": [
    "### Random Forest Regressor model + Scaled"
   ]
  },
  {
   "cell_type": "code",
   "execution_count": 17,
   "id": "15586f3b",
   "metadata": {},
   "outputs": [
    {
     "data": {
      "text/plain": [
       "RandomForestRegressor(n_estimators=1000, random_state=42)"
      ]
     },
     "execution_count": 17,
     "metadata": {},
     "output_type": "execute_result"
    }
   ],
   "source": [
    "# Setting features dataframe and target vector\n",
    "X = world_df.drop([\"gdp_current\", \"country_name\", \"Year\", \"gdp_per_cap\"], axis=1)\n",
    "y = world_df[\"gdp_current\"]\n",
    "\n",
    "# Split the data into a training and test set\n",
    "X_train, X_test, y_train, y_test = train_test_split(X, y, test_size=0.5)\n",
    "\n",
    "# Initialize the StandardScaler\n",
    "scaler = StandardScaler()\n",
    "\n",
    "# Fit and transform the X_train data\n",
    "X_train_scaled = scaler.fit_transform(X_train)\n",
    "\n",
    "# Transform the X_test data using scaler object\n",
    "X_test_scaled = scaler.transform(X_test)\n",
    "\n",
    "# Create the random forest regressor model\n",
    "rfr_model = RandomForestRegressor(n_estimators=1000, random_state=42)\n",
    "\n",
    "# Fit the model\n",
    "rfr_model.fit(X_train_scaled, y_train)"
   ]
  },
  {
   "cell_type": "code",
   "execution_count": 18,
   "id": "6e1ff5a7",
   "metadata": {},
   "outputs": [
    {
     "name": "stdout",
     "output_type": "stream",
     "text": [
      "Evaluation of RFR model on training data:\n",
      "R2 Score: 95.06%\n"
     ]
    }
   ],
   "source": [
    "# Make predictions on the test data set\n",
    "y_pred_train = rfr_model.predict(X_train_scaled)\n",
    "\n",
    "# Calculate the r2_score\n",
    "r2_score_ = r2_score(y_train, y_pred_train)\n",
    "print(\"Evaluation of RFR model on training data:\")\n",
    "print(f\"R2 Score: {np.round(r2_score_ * 100, 2)}%\")"
   ]
  },
  {
   "cell_type": "code",
   "execution_count": 19,
   "id": "3b76a828",
   "metadata": {},
   "outputs": [
    {
     "name": "stdout",
     "output_type": "stream",
     "text": [
      "Evaluation of RFR model on testing data:\n",
      "Test accuracy: 65.5%\n",
      "R2 Score: 65.5%\n"
     ]
    }
   ],
   "source": [
    "# Make predictions on the test data set\n",
    "y_pred_test = rfr_model.predict(X_test_scaled)\n",
    "\n",
    "print(\"Evaluation of RFR model on testing data:\")\n",
    "# Calculate the accuracy of the model\n",
    "score = rfr_model.score(X_test_scaled, y_test)\n",
    "print(f\"Test accuracy: {np.round(score * 100, 2)}%\")\n",
    "\n",
    "# Calculate the r2_score\n",
    "r2_score_ = r2_score(y_test,y_pred_test)\n",
    "print(f\"R2 Score: {np.round(r2_score_ * 100, 2)}%\")"
   ]
  },
  {
   "cell_type": "code",
   "execution_count": null,
   "id": "79bf8150",
   "metadata": {},
   "outputs": [],
   "source": []
  }
 ],
 "metadata": {
  "kernelspec": {
   "display_name": "mlenv",
   "language": "python",
   "name": "mlenv"
  },
  "language_info": {
   "codemirror_mode": {
    "name": "ipython",
    "version": 3
   },
   "file_extension": ".py",
   "mimetype": "text/x-python",
   "name": "python",
   "nbconvert_exporter": "python",
   "pygments_lexer": "ipython3",
   "version": "3.7.15"
  }
 },
 "nbformat": 4,
 "nbformat_minor": 5
}
