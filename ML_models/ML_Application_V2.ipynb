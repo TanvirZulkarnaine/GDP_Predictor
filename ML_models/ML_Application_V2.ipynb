{
 "cells": [
  {
   "cell_type": "code",
   "execution_count": 1,
   "id": "507ae4d8",
   "metadata": {},
   "outputs": [],
   "source": [
    "# Import pandas and numpy\n",
    "import pandas as pd \n",
    "import numpy as np\n",
    "\n",
    "# Import for splitting data into train & test for the ML models\n",
    "from sklearn.model_selection import train_test_split\n",
    "\n",
    "# Import Machine Learning Linear regression models\n",
    "from sklearn.linear_model import LinearRegression\n",
    "from sklearn.ensemble import RandomForestRegressor\n",
    "from sklearn.svm import SVR\n",
    "from sklearn.metrics import accuracy_score\n",
    "\n",
    "# Import neural network modules\n",
    "import tensorflow as tf\n",
    "from tensorflow import keras\n",
    "from tensorflow.keras.models import Sequential\n",
    "from tensorflow.keras.layers import Dense\n",
    "\n",
    "# Import standard scaler for scaling the data\n",
    "from sklearn.preprocessing import StandardScaler\n",
    "\n",
    "# Import metrics to calculate accuracy of models\n",
    "from sklearn.metrics import mean_squared_error, r2_score"
   ]
  },
  {
   "cell_type": "code",
   "execution_count": 2,
   "id": "bb039596",
   "metadata": {},
   "outputs": [
    {
     "data": {
      "text/html": [
       "<div>\n",
       "<style scoped>\n",
       "    .dataframe tbody tr th:only-of-type {\n",
       "        vertical-align: middle;\n",
       "    }\n",
       "\n",
       "    .dataframe tbody tr th {\n",
       "        vertical-align: top;\n",
       "    }\n",
       "\n",
       "    .dataframe thead th {\n",
       "        text-align: right;\n",
       "    }\n",
       "</style>\n",
       "<table border=\"1\" class=\"dataframe\">\n",
       "  <thead>\n",
       "    <tr style=\"text-align: right;\">\n",
       "      <th></th>\n",
       "      <th>country_name</th>\n",
       "      <th>Year</th>\n",
       "      <th>urbanization</th>\n",
       "      <th>gdp_per_cap</th>\n",
       "      <th>inflation</th>\n",
       "      <th>gdp_current</th>\n",
       "      <th>unemployment</th>\n",
       "      <th>literacy_adult</th>\n",
       "      <th>health_exp</th>\n",
       "      <th>literacy_youth</th>\n",
       "      <th>life_exp</th>\n",
       "      <th>re_consumption</th>\n",
       "      <th>ff_consumption</th>\n",
       "      <th>energy_use</th>\n",
       "    </tr>\n",
       "  </thead>\n",
       "  <tbody>\n",
       "    <tr>\n",
       "      <th>0</th>\n",
       "      <td>Canada</td>\n",
       "      <td>1971</td>\n",
       "      <td>76.090</td>\n",
       "      <td>4520.162878</td>\n",
       "      <td>2.704918</td>\n",
       "      <td>9.927196e+10</td>\n",
       "      <td>6.400000</td>\n",
       "      <td>81.228489</td>\n",
       "      <td>6.204456</td>\n",
       "      <td>88.205112</td>\n",
       "      <td>73.029268</td>\n",
       "      <td>30.497158</td>\n",
       "      <td>84.154154</td>\n",
       "      <td>6436.226256</td>\n",
       "    </tr>\n",
       "    <tr>\n",
       "      <th>1</th>\n",
       "      <td>Afghanistan</td>\n",
       "      <td>1971</td>\n",
       "      <td>12.021</td>\n",
       "      <td>166.224831</td>\n",
       "      <td>25.565204</td>\n",
       "      <td>1.831109e+09</td>\n",
       "      <td>8.118803</td>\n",
       "      <td>81.228489</td>\n",
       "      <td>6.204456</td>\n",
       "      <td>88.205112</td>\n",
       "      <td>37.923000</td>\n",
       "      <td>30.497158</td>\n",
       "      <td>65.539705</td>\n",
       "      <td>2326.432009</td>\n",
       "    </tr>\n",
       "    <tr>\n",
       "      <th>2</th>\n",
       "      <td>Albania</td>\n",
       "      <td>1971</td>\n",
       "      <td>31.933</td>\n",
       "      <td>10212.316586</td>\n",
       "      <td>25.565204</td>\n",
       "      <td>2.063322e+11</td>\n",
       "      <td>8.118803</td>\n",
       "      <td>81.228489</td>\n",
       "      <td>6.204456</td>\n",
       "      <td>88.205112</td>\n",
       "      <td>65.618000</td>\n",
       "      <td>30.497158</td>\n",
       "      <td>74.660703</td>\n",
       "      <td>785.161526</td>\n",
       "    </tr>\n",
       "    <tr>\n",
       "      <th>3</th>\n",
       "      <td>Algeria</td>\n",
       "      <td>1971</td>\n",
       "      <td>39.665</td>\n",
       "      <td>359.824582</td>\n",
       "      <td>2.626642</td>\n",
       "      <td>5.077222e+09</td>\n",
       "      <td>8.118803</td>\n",
       "      <td>81.228489</td>\n",
       "      <td>6.204456</td>\n",
       "      <td>88.205112</td>\n",
       "      <td>43.670000</td>\n",
       "      <td>30.497158</td>\n",
       "      <td>98.999816</td>\n",
       "      <td>245.527602</td>\n",
       "    </tr>\n",
       "    <tr>\n",
       "      <th>4</th>\n",
       "      <td>American Samoa</td>\n",
       "      <td>1971</td>\n",
       "      <td>70.784</td>\n",
       "      <td>10212.316586</td>\n",
       "      <td>25.565204</td>\n",
       "      <td>2.063322e+11</td>\n",
       "      <td>8.118803</td>\n",
       "      <td>81.228489</td>\n",
       "      <td>6.204456</td>\n",
       "      <td>88.205112</td>\n",
       "      <td>66.294149</td>\n",
       "      <td>30.497158</td>\n",
       "      <td>65.539705</td>\n",
       "      <td>2326.432009</td>\n",
       "    </tr>\n",
       "  </tbody>\n",
       "</table>\n",
       "</div>"
      ],
      "text/plain": [
       "     country_name  Year  urbanization   gdp_per_cap  inflation   gdp_current  \\\n",
       "0          Canada  1971        76.090   4520.162878   2.704918  9.927196e+10   \n",
       "1     Afghanistan  1971        12.021    166.224831  25.565204  1.831109e+09   \n",
       "2         Albania  1971        31.933  10212.316586  25.565204  2.063322e+11   \n",
       "3         Algeria  1971        39.665    359.824582   2.626642  5.077222e+09   \n",
       "4  American Samoa  1971        70.784  10212.316586  25.565204  2.063322e+11   \n",
       "\n",
       "   unemployment  literacy_adult  health_exp  literacy_youth   life_exp  \\\n",
       "0      6.400000       81.228489    6.204456       88.205112  73.029268   \n",
       "1      8.118803       81.228489    6.204456       88.205112  37.923000   \n",
       "2      8.118803       81.228489    6.204456       88.205112  65.618000   \n",
       "3      8.118803       81.228489    6.204456       88.205112  43.670000   \n",
       "4      8.118803       81.228489    6.204456       88.205112  66.294149   \n",
       "\n",
       "   re_consumption  ff_consumption   energy_use  \n",
       "0       30.497158       84.154154  6436.226256  \n",
       "1       30.497158       65.539705  2326.432009  \n",
       "2       30.497158       74.660703   785.161526  \n",
       "3       30.497158       98.999816   245.527602  \n",
       "4       30.497158       65.539705  2326.432009  "
      ]
     },
     "execution_count": 2,
     "metadata": {},
     "output_type": "execute_result"
    }
   ],
   "source": [
    "# Read the cleaned country data CSV file\n",
    "df = pd.read_csv(\"../Resources/merged_df.csv\", encoding =\"unicode_escape\")\n",
    "df.head()"
   ]
  },
  {
   "cell_type": "code",
   "execution_count": 3,
   "id": "6bf77b9f",
   "metadata": {},
   "outputs": [
    {
     "data": {
      "text/plain": [
       "country_name       object\n",
       "Year                int64\n",
       "urbanization      float64\n",
       "gdp_per_cap       float64\n",
       "inflation         float64\n",
       "gdp_current       float64\n",
       "unemployment      float64\n",
       "literacy_adult    float64\n",
       "health_exp        float64\n",
       "literacy_youth    float64\n",
       "life_exp          float64\n",
       "re_consumption    float64\n",
       "ff_consumption    float64\n",
       "energy_use        float64\n",
       "dtype: object"
      ]
     },
     "execution_count": 3,
     "metadata": {},
     "output_type": "execute_result"
    }
   ],
   "source": [
    "# Checking datatypes of each columns\n",
    "df.dtypes"
   ]
  },
  {
   "cell_type": "code",
   "execution_count": 4,
   "id": "8883f90b",
   "metadata": {},
   "outputs": [
    {
     "data": {
      "text/html": [
       "<div>\n",
       "<style scoped>\n",
       "    .dataframe tbody tr th:only-of-type {\n",
       "        vertical-align: middle;\n",
       "    }\n",
       "\n",
       "    .dataframe tbody tr th {\n",
       "        vertical-align: top;\n",
       "    }\n",
       "\n",
       "    .dataframe thead th {\n",
       "        text-align: right;\n",
       "    }\n",
       "</style>\n",
       "<table border=\"1\" class=\"dataframe\">\n",
       "  <thead>\n",
       "    <tr style=\"text-align: right;\">\n",
       "      <th></th>\n",
       "      <th>country_name</th>\n",
       "      <th>Year</th>\n",
       "      <th>urbanization</th>\n",
       "      <th>gdp_per_cap</th>\n",
       "      <th>inflation</th>\n",
       "      <th>gdp_current</th>\n",
       "      <th>unemployment</th>\n",
       "      <th>literacy_adult</th>\n",
       "      <th>health_exp</th>\n",
       "      <th>literacy_youth</th>\n",
       "      <th>life_exp</th>\n",
       "      <th>re_consumption</th>\n",
       "      <th>ff_consumption</th>\n",
       "      <th>energy_use</th>\n",
       "    </tr>\n",
       "  </thead>\n",
       "  <tbody>\n",
       "    <tr>\n",
       "      <th>0</th>\n",
       "      <td>Canada</td>\n",
       "      <td>1971</td>\n",
       "      <td>76.090</td>\n",
       "      <td>4520.162878</td>\n",
       "      <td>2.704918</td>\n",
       "      <td>9.927196e+10</td>\n",
       "      <td>6.400000</td>\n",
       "      <td>81.228489</td>\n",
       "      <td>6.204456</td>\n",
       "      <td>88.205112</td>\n",
       "      <td>73.029268</td>\n",
       "      <td>30.497158</td>\n",
       "      <td>84.154154</td>\n",
       "      <td>6436.226256</td>\n",
       "    </tr>\n",
       "    <tr>\n",
       "      <th>1</th>\n",
       "      <td>Afghanistan</td>\n",
       "      <td>1971</td>\n",
       "      <td>12.021</td>\n",
       "      <td>166.224831</td>\n",
       "      <td>25.565204</td>\n",
       "      <td>1.831109e+09</td>\n",
       "      <td>8.118803</td>\n",
       "      <td>81.228489</td>\n",
       "      <td>6.204456</td>\n",
       "      <td>88.205112</td>\n",
       "      <td>37.923000</td>\n",
       "      <td>30.497158</td>\n",
       "      <td>65.539705</td>\n",
       "      <td>2326.432009</td>\n",
       "    </tr>\n",
       "    <tr>\n",
       "      <th>2</th>\n",
       "      <td>Albania</td>\n",
       "      <td>1971</td>\n",
       "      <td>31.933</td>\n",
       "      <td>10212.316586</td>\n",
       "      <td>25.565204</td>\n",
       "      <td>2.063322e+11</td>\n",
       "      <td>8.118803</td>\n",
       "      <td>81.228489</td>\n",
       "      <td>6.204456</td>\n",
       "      <td>88.205112</td>\n",
       "      <td>65.618000</td>\n",
       "      <td>30.497158</td>\n",
       "      <td>74.660703</td>\n",
       "      <td>785.161526</td>\n",
       "    </tr>\n",
       "    <tr>\n",
       "      <th>3</th>\n",
       "      <td>Algeria</td>\n",
       "      <td>1971</td>\n",
       "      <td>39.665</td>\n",
       "      <td>359.824582</td>\n",
       "      <td>2.626642</td>\n",
       "      <td>5.077222e+09</td>\n",
       "      <td>8.118803</td>\n",
       "      <td>81.228489</td>\n",
       "      <td>6.204456</td>\n",
       "      <td>88.205112</td>\n",
       "      <td>43.670000</td>\n",
       "      <td>30.497158</td>\n",
       "      <td>98.999816</td>\n",
       "      <td>245.527602</td>\n",
       "    </tr>\n",
       "    <tr>\n",
       "      <th>4</th>\n",
       "      <td>American Samoa</td>\n",
       "      <td>1971</td>\n",
       "      <td>70.784</td>\n",
       "      <td>10212.316586</td>\n",
       "      <td>25.565204</td>\n",
       "      <td>2.063322e+11</td>\n",
       "      <td>8.118803</td>\n",
       "      <td>81.228489</td>\n",
       "      <td>6.204456</td>\n",
       "      <td>88.205112</td>\n",
       "      <td>66.294149</td>\n",
       "      <td>30.497158</td>\n",
       "      <td>65.539705</td>\n",
       "      <td>2326.432009</td>\n",
       "    </tr>\n",
       "  </tbody>\n",
       "</table>\n",
       "</div>"
      ],
      "text/plain": [
       "     country_name  Year  urbanization   gdp_per_cap  inflation   gdp_current  \\\n",
       "0          Canada  1971        76.090   4520.162878   2.704918  9.927196e+10   \n",
       "1     Afghanistan  1971        12.021    166.224831  25.565204  1.831109e+09   \n",
       "2         Albania  1971        31.933  10212.316586  25.565204  2.063322e+11   \n",
       "3         Algeria  1971        39.665    359.824582   2.626642  5.077222e+09   \n",
       "4  American Samoa  1971        70.784  10212.316586  25.565204  2.063322e+11   \n",
       "\n",
       "   unemployment  literacy_adult  health_exp  literacy_youth   life_exp  \\\n",
       "0      6.400000       81.228489    6.204456       88.205112  73.029268   \n",
       "1      8.118803       81.228489    6.204456       88.205112  37.923000   \n",
       "2      8.118803       81.228489    6.204456       88.205112  65.618000   \n",
       "3      8.118803       81.228489    6.204456       88.205112  43.670000   \n",
       "4      8.118803       81.228489    6.204456       88.205112  66.294149   \n",
       "\n",
       "   re_consumption  ff_consumption   energy_use  \n",
       "0       30.497158       84.154154  6436.226256  \n",
       "1       30.497158       65.539705  2326.432009  \n",
       "2       30.497158       74.660703   785.161526  \n",
       "3       30.497158       98.999816   245.527602  \n",
       "4       30.497158       65.539705  2326.432009  "
      ]
     },
     "execution_count": 4,
     "metadata": {},
     "output_type": "execute_result"
    }
   ],
   "source": [
    "world_df = df.copy()\n",
    "world_df.head()"
   ]
  },
  {
   "cell_type": "markdown",
   "id": "bbcaa3ae",
   "metadata": {},
   "source": [
    "### Linear Regression model"
   ]
  },
  {
   "cell_type": "code",
   "execution_count": 4,
   "id": "6164dcef",
   "metadata": {},
   "outputs": [],
   "source": [
    "# Setting features dataframe and target vector\n",
    "X = world_df.drop([\"gdp_current\", \"Year\",\"country_name\", \"health_exp\", \"literacy_youth\", \"literacy_adult\"], axis=1)\n",
    "y = world_df[\"gdp_current\"]"
   ]
  },
  {
   "cell_type": "code",
   "execution_count": 5,
   "id": "ef63cd30",
   "metadata": {},
   "outputs": [],
   "source": [
    "# Split the data into a training and test set\n",
    "X_train, X_test, y_train, y_test = train_test_split(X, y, test_size=0.2)"
   ]
  },
  {
   "cell_type": "code",
   "execution_count": 6,
   "id": "029fb8ca",
   "metadata": {},
   "outputs": [
    {
     "data": {
      "text/plain": [
       "LinearRegression()"
      ]
     },
     "execution_count": 6,
     "metadata": {},
     "output_type": "execute_result"
    }
   ],
   "source": [
    "# Create the linear regression model\n",
    "lr_model = LinearRegression()\n",
    "\n",
    "# Fit the model \n",
    "lr_model.fit(X_train, y_train)"
   ]
  },
  {
   "cell_type": "markdown",
   "id": "ac05ee34",
   "metadata": {},
   "source": [
    "To assess the impact of each features on the target, I am using the coefficients of linear regression model."
   ]
  },
  {
   "cell_type": "code",
   "execution_count": 7,
   "id": "a96cb0fd",
   "metadata": {},
   "outputs": [
    {
     "name": "stdout",
     "output_type": "stream",
     "text": [
      "Feature Coefficients:\n",
      "unemployment: -11050070589.43572\n",
      "life_exp: 7514489060.537568\n",
      "ff_consumption: 1119865522.688578\n",
      "re_consumption: -1110872718.1238523\n",
      "urbanization: -211629323.90696505\n",
      "energy_use: 23964710.9956079\n",
      "gdp_per_cap: 7515317.75375754\n",
      "inflation: 14148.01496678214\n"
     ]
    }
   ],
   "source": [
    "# Determine feature coefficients\n",
    "coefficients = lr_model.coef_\n",
    "\n",
    "# Sort the coefficients in descending absolute value order\n",
    "sorted_index = np.abs(coefficients).argsort()[::-1]\n",
    "\n",
    "# Print the feature names and their coefficients\n",
    "print(\"Feature Coefficients:\")\n",
    "for index in sorted_index:\n",
    "    print(\"{}: {}\".format(X.columns[index], coefficients[index]))"
   ]
  },
  {
   "cell_type": "code",
   "execution_count": 8,
   "id": "b48f91ba",
   "metadata": {},
   "outputs": [
    {
     "name": "stdout",
     "output_type": "stream",
     "text": [
      "Test accuracy: 4.37%\n",
      "R2 Score: 4.37%\n"
     ]
    }
   ],
   "source": [
    "# Make predictions on the test data set\n",
    "y_pred = lr_model.predict(X_test)\n",
    "\n",
    "# Calculate the accuracy of the model\n",
    "score = lr_model.score(X_test, y_test)\n",
    "print(f\"Test accuracy: {np.round(score * 100, 2)}%\")\n",
    "\n",
    "# Calculate the r2_score\n",
    "r2_score_ = r2_score(y_test,y_pred)\n",
    "print(f\"R2 Score: {np.round(r2_score_ * 100, 2)}%\")"
   ]
  },
  {
   "cell_type": "code",
   "execution_count": 9,
   "id": "79e1391c",
   "metadata": {},
   "outputs": [
    {
     "name": "stdout",
     "output_type": "stream",
     "text": [
      "Test accuracy: 5.69%\n",
      "R2 Score: 5.69%\n"
     ]
    }
   ],
   "source": [
    "# Make predictions on the test data set\n",
    "y_pred = lr_model.predict(X_train)\n",
    "\n",
    "# Calculate the accuracy of the model\n",
    "score = lr_model.score(X_train, y_train)\n",
    "print(f\"Test accuracy: {np.round(score * 100, 2)}%\")\n",
    "\n",
    "# Calculate the r2_score\n",
    "r2_score_ = r2_score(y_train,y_pred)\n",
    "print(f\"R2 Score: {np.round(r2_score_ * 100, 2)}%\")"
   ]
  },
  {
   "cell_type": "markdown",
   "id": "c8d0e2f7",
   "metadata": {},
   "source": [
    "### Linear Regression model + scaling on our data"
   ]
  },
  {
   "cell_type": "code",
   "execution_count": 5,
   "id": "a63d1d7c",
   "metadata": {},
   "outputs": [],
   "source": [
    "# Setting features dataframe and target vector\n",
    "X = world_df.drop([\"gdp_current\", \"country_name\", \"Year\"], axis=1)\n",
    "y = world_df[\"gdp_current\"]"
   ]
  },
  {
   "cell_type": "code",
   "execution_count": 10,
   "id": "b26c8cf5",
   "metadata": {},
   "outputs": [
    {
     "name": "stdout",
     "output_type": "stream",
     "text": [
      "Number of rows in X: 11067\n",
      "Number of rows in y: 11067\n"
     ]
    }
   ],
   "source": [
    "print(\"Number of rows in X:\", len(X))\n",
    "print(\"Number of rows in y:\", len(y))"
   ]
  },
  {
   "cell_type": "code",
   "execution_count": 6,
   "id": "b32b39a3",
   "metadata": {},
   "outputs": [],
   "source": [
    "# Split the data into a training and test set\n",
    "X_train, X_test, y_train, y_test = train_test_split(X, y, test_size=0.2)"
   ]
  },
  {
   "cell_type": "code",
   "execution_count": 7,
   "id": "2f5adb71",
   "metadata": {},
   "outputs": [],
   "source": [
    "# Initialize the StandardScaler\n",
    "scaler = StandardScaler()\n",
    "\n",
    "# Fit and transform the X_train data\n",
    "X_train_scaled = scaler.fit_transform(X_train)\n",
    "\n",
    "# Transform the X_test data using scaler object\n",
    "X_test_scaled = scaler.transform(X_test)"
   ]
  },
  {
   "cell_type": "code",
   "execution_count": 8,
   "id": "cc024d66",
   "metadata": {},
   "outputs": [
    {
     "data": {
      "text/plain": [
       "LinearRegression()"
      ]
     },
     "execution_count": 8,
     "metadata": {},
     "output_type": "execute_result"
    }
   ],
   "source": [
    "# Create the linear regression model\n",
    "lr_model_new = LinearRegression()\n",
    "\n",
    "# Fit the model on scaled data\n",
    "lr_model_new.fit(X_train_scaled, y_train)"
   ]
  },
  {
   "cell_type": "code",
   "execution_count": 9,
   "id": "719d4fc1",
   "metadata": {},
   "outputs": [
    {
     "name": "stdout",
     "output_type": "stream",
     "text": [
      "Feature Coefficients:\n",
      "health_exp: 228437307160.30676\n",
      "gdp_per_cap: 121197786021.38681\n",
      "unemployment: -68450255004.559906\n",
      "energy_use: 56531067254.72751\n",
      "life_exp: 55204112306.93537\n",
      "ff_consumption: 30926022806.315903\n",
      "literacy_adult: -22193144540.25224\n",
      "urbanization: -12223573741.264294\n",
      "re_consumption: -10973545201.248268\n",
      "literacy_youth: 10901292097.498444\n",
      "inflation: -869400826.3892261\n"
     ]
    }
   ],
   "source": [
    "# Determine feature coefficients\n",
    "coefficients = lr_model_new.coef_\n",
    "\n",
    "# Sort the coefficients in descending absolute value order\n",
    "sorted_index = np.abs(coefficients).argsort()[::-1]\n",
    "\n",
    "# Print the feature names and their coefficients\n",
    "print(\"Feature Coefficients:\")\n",
    "for index in sorted_index:\n",
    "    print(\"{}: {}\".format(X.columns[index], coefficients[index]))"
   ]
  },
  {
   "cell_type": "code",
   "execution_count": 13,
   "id": "6f9ba1f8",
   "metadata": {},
   "outputs": [
    {
     "name": "stdout",
     "output_type": "stream",
     "text": [
      "R2 Score: 10.78%\n"
     ]
    }
   ],
   "source": [
    "# Make predictions on the test data set\n",
    "y_pred_train = lr_model_new.predict(X_train_scaled)\n",
    "\n",
    "# Calculate the r2_score\n",
    "r2_score_ = r2_score(y_train, y_pred_train)\n",
    "print(f\"R2 Score: {np.round(r2_score_ * 100, 2)}%\")"
   ]
  },
  {
   "cell_type": "code",
   "execution_count": 12,
   "id": "c14c518e",
   "metadata": {},
   "outputs": [
    {
     "name": "stdout",
     "output_type": "stream",
     "text": [
      "Test accuracy: 4.04%\n",
      "R2 Score: 4.04%\n"
     ]
    }
   ],
   "source": [
    "# Make predictions on the test data set\n",
    "y_pred_test = lr_model_new.predict(X_test_scaled)\n",
    "\n",
    "# Calculate the accuracy of the model\n",
    "score = lr_model_new.score(X_test_scaled, y_test)\n",
    "print(f\"Test accuracy: {np.round(score * 100, 2)}%\")\n",
    "\n",
    "# Calculate the r2_score\n",
    "r2_score_ = r2_score(y_test,y_pred_test)\n",
    "print(f\"R2 Score: {np.round(r2_score_ * 100, 2)}%\")"
   ]
  },
  {
   "cell_type": "markdown",
   "id": "b5b86037",
   "metadata": {},
   "source": [
    "### Random Forest Regressor model"
   ]
  },
  {
   "cell_type": "code",
   "execution_count": 5,
   "id": "934ca717",
   "metadata": {},
   "outputs": [],
   "source": [
    "# Setting features dataframe and target vector\n",
    "X = world_df.drop([\"gdp_current\", \"country_name\", \"Year\", \"gdp_per_cap\"], axis=1)\n",
    "y = world_df[\"gdp_current\"]\n",
    "\n",
    "# Split the data into a training and test set\n",
    "X_train, X_test, y_train, y_test = train_test_split(X, y, test_size=0.2)"
   ]
  },
  {
   "cell_type": "code",
   "execution_count": 6,
   "id": "bd314842",
   "metadata": {},
   "outputs": [
    {
     "data": {
      "text/plain": [
       "RandomForestRegressor(n_estimators=1000, random_state=42)"
      ]
     },
     "execution_count": 6,
     "metadata": {},
     "output_type": "execute_result"
    }
   ],
   "source": [
    "# Create the random forest regressor model\n",
    "rfr_model = RandomForestRegressor(n_estimators=1000, random_state=42)\n",
    "\n",
    "# Fit the model\n",
    "rfr_model.fit(X_train, y_train)"
   ]
  },
  {
   "cell_type": "code",
   "execution_count": 7,
   "id": "163d9248",
   "metadata": {},
   "outputs": [
    {
     "name": "stdout",
     "output_type": "stream",
     "text": [
      "Feature Importances:\n",
      "life_exp: 0.2991793594285801\n",
      "health_exp: 0.21835868784009546\n",
      "inflation: 0.14727355769360656\n",
      "urbanization: 0.11072672095771119\n",
      "unemployment: 0.06023945727689051\n",
      "re_consumption: 0.053152532357919315\n",
      "energy_use: 0.044717083536450736\n",
      "ff_consumption: 0.042088387404216256\n",
      "literacy_youth: 0.019098694592505756\n",
      "literacy_adult: 0.005165518912024114\n"
     ]
    }
   ],
   "source": [
    "# Determine feature importances\n",
    "importances = rfr_model.feature_importances_\n",
    "\n",
    "# Sort the feature importances in descending order (highest to lowest)\n",
    "sorted_index = importances.argsort()[::-1]\n",
    "\n",
    "# Print the feature names and their importances\n",
    "print(\"Feature Importances:\")\n",
    "for index in sorted_index:\n",
    "    print(\"{}: {}\".format(X.columns[index], importances[index]))"
   ]
  },
  {
   "cell_type": "code",
   "execution_count": 11,
   "id": "a6f54ae2",
   "metadata": {},
   "outputs": [
    {
     "name": "stdout",
     "output_type": "stream",
     "text": [
      "Evaluation metrics of World's Data (1971-2021)\n",
      "====================\n",
      "Test accuracy: 83.22%\n",
      "R2 Score: 83.22%\n",
      "--------------------\n",
      "Mean Squared Error: 9.775532096078348e+22\n"
     ]
    }
   ],
   "source": [
    "# Make predictions on the test data set\n",
    "y_pred = rfr_model.predict(X_test)\n",
    "\n",
    "print(\"Evaluation metrics of World's Data (1971-2021)\")\n",
    "print(\"====================\")\n",
    "# Calculate the accuracy of the RFR model\n",
    "score = rfr_model.score(X_test, y_test)\n",
    "print(f\"Test accuracy: {np.round(score * 100, 2)}%\")\n",
    "\n",
    "# Calculate the r2_score of RFR model\n",
    "r2_score_ = r2_score(y_test,y_pred)\n",
    "print(f\"R2 Score: {np.round(r2_score_ * 100, 2)}%\")\n",
    "\n",
    "# Calculating the MSE of RFR model\n",
    "mse = mean_squared_error(y_test, y_pred)\n",
    "print(\"--------------------\")\n",
    "print(\"Mean Squared Error:\", mse)"
   ]
  },
  {
   "cell_type": "markdown",
   "id": "046719ef",
   "metadata": {},
   "source": [
    "### Random Forest Regressor + Scaling data"
   ]
  },
  {
   "cell_type": "code",
   "execution_count": 21,
   "id": "3a4e8edc",
   "metadata": {},
   "outputs": [],
   "source": [
    "# Setting features dataframe and target vector\n",
    "X = world_df.drop([\"gdp_current\", \"country_name\", \"gdp_per_cap\"], axis=1)\n",
    "y = world_df[\"gdp_current\"]\n",
    "\n",
    "# Split the data into a training and test set\n",
    "X_train, X_test, y_train, y_test = train_test_split(X, y, test_size=0.2)"
   ]
  },
  {
   "cell_type": "code",
   "execution_count": 22,
   "id": "f3a052ec",
   "metadata": {},
   "outputs": [],
   "source": [
    "# Initialize the StandardScaler\n",
    "scaler = StandardScaler()\n",
    "\n",
    "# Fit and transform the X_train data\n",
    "X_train_scaled = scaler.fit_transform(X_train)\n",
    "\n",
    "# Transform the X_test data using scaler object\n",
    "X_test_scaled = scaler.transform(X_test)"
   ]
  },
  {
   "cell_type": "code",
   "execution_count": 23,
   "id": "019b80f3",
   "metadata": {},
   "outputs": [
    {
     "data": {
      "text/plain": [
       "RandomForestRegressor(n_estimators=1000, random_state=42)"
      ]
     },
     "execution_count": 23,
     "metadata": {},
     "output_type": "execute_result"
    }
   ],
   "source": [
    "# Create the random forest regressor model\n",
    "rfr_model_scale = RandomForestRegressor(n_estimators=1000, random_state=42)\n",
    "\n",
    "# Fit the model\n",
    "rfr_model_scale.fit(X_train_scaled, y_train)"
   ]
  },
  {
   "cell_type": "code",
   "execution_count": 24,
   "id": "4a1a0e64",
   "metadata": {},
   "outputs": [
    {
     "name": "stdout",
     "output_type": "stream",
     "text": [
      "Feature Importances:\n",
      "life_exp: 0.3053573530025275\n",
      "health_exp: 0.23177504482754238\n",
      "urbanization: 0.10292696980103787\n",
      "inflation: 0.10291877117905224\n",
      "unemployment: 0.07667535042872255\n",
      "re_consumption: 0.05710941777470365\n",
      "energy_use: 0.05166410029783323\n",
      "ff_consumption: 0.037704197765033476\n",
      "Year: 0.02893826535685029\n",
      "literacy_youth: 0.0026207666817766023\n",
      "literacy_adult: 0.0023097628849203782\n"
     ]
    }
   ],
   "source": [
    "# Determine feature importances\n",
    "importances = rfr_model_scale.feature_importances_\n",
    "\n",
    "# Sort the feature importances in descending order (highest to lowest)\n",
    "sorted_index = importances.argsort()[::-1]\n",
    "\n",
    "# Print the feature names and their importances\n",
    "print(\"Feature Importances:\")\n",
    "for index in sorted_index:\n",
    "    print(\"{}: {}\".format(X.columns[index], importances[index]))"
   ]
  },
  {
   "cell_type": "code",
   "execution_count": 25,
   "id": "235c451b",
   "metadata": {},
   "outputs": [
    {
     "name": "stdout",
     "output_type": "stream",
     "text": [
      "Test accuracy: 66.13%\n",
      "R2 Score: 66.13%\n"
     ]
    }
   ],
   "source": [
    "# Make predictions on the test data set\n",
    "y_pred = rfr_model_scale.predict(X_test_scaled)\n",
    "\n",
    "# Calculate the accuracy of the RandomForestRegressor model\n",
    "score = rfr_model_scale.score(X_test_scaled, y_test)\n",
    "print(f\"Test accuracy: {np.round(score * 100, 2)}%\")\n",
    "\n",
    "# Calculate the r2_score\n",
    "r2_score_ = r2_score(y_test,y_pred)\n",
    "print(f\"R2 Score: {np.round(r2_score_ * 100, 2)}%\")"
   ]
  },
  {
   "cell_type": "markdown",
   "id": "8e4e52ea",
   "metadata": {},
   "source": [
    "### Support Vector Regressor model"
   ]
  },
  {
   "cell_type": "code",
   "execution_count": 26,
   "id": "268f658f",
   "metadata": {},
   "outputs": [],
   "source": [
    "# Setting features dataframe and target vector\n",
    "X = world_df.drop([\"gdp_current\", \"country_name\", \"gdp_per_cap\"], axis=1)\n",
    "y = world_df[\"gdp_current\"]"
   ]
  },
  {
   "cell_type": "code",
   "execution_count": 27,
   "id": "97425fb9",
   "metadata": {},
   "outputs": [],
   "source": [
    "# Scale the data\n",
    "scaler = StandardScaler()\n",
    "X_scaled = scaler.fit_transform(X)"
   ]
  },
  {
   "cell_type": "code",
   "execution_count": 28,
   "id": "5c1d2b58",
   "metadata": {},
   "outputs": [],
   "source": [
    "# Split the data into a training and test set\n",
    "X_train, X_test, y_train, y_test = train_test_split(X_scaled, y, test_size=0.2)"
   ]
  },
  {
   "cell_type": "code",
   "execution_count": 29,
   "id": "a572c157",
   "metadata": {},
   "outputs": [
    {
     "data": {
      "text/plain": [
       "SVR(kernel='linear')"
      ]
     },
     "execution_count": 29,
     "metadata": {},
     "output_type": "execute_result"
    }
   ],
   "source": [
    "# Create the SVR model\n",
    "SVR_model = SVR(kernel='linear')\n",
    "\n",
    "# Fir the model on scaled data\n",
    "SVR_model.fit(X_train, y_train)"
   ]
  },
  {
   "cell_type": "markdown",
   "id": "1e238374",
   "metadata": {},
   "source": [
    "One of the ways to measure feature importances of SVR model is Recursive Feature Elimination (RFE).\n",
    "RFE selects the most important features recursively and the contribution of each feature to overall accuracy of the model is measured."
   ]
  },
  {
   "cell_type": "code",
   "execution_count": 30,
   "id": "cc31285b",
   "metadata": {},
   "outputs": [
    {
     "name": "stdout",
     "output_type": "stream",
     "text": [
      "Sorted Feature Importances:\n",
      "Year: 11\n",
      "inflation: 10\n",
      "health_exp: 9\n",
      "unemployment: 8\n",
      "literacy_adult: 7\n",
      "literacy_youth: 6\n",
      "energy_use: 5\n",
      "re_consumption: 4\n",
      "ff_consumption: 3\n",
      "life_exp: 2\n",
      "urbanization: 1\n",
      "Test Score: -0.03974845457975884\n"
     ]
    }
   ],
   "source": [
    "from sklearn.feature_selection import RFE\n",
    "\n",
    "# Use RFE to select the best features\n",
    "rfe = RFE(SVR_model, n_features_to_select=1)\n",
    "rfe.fit(X_train, y_train)\n",
    "\n",
    "# Convert the ranking_ attribute to a pandas dataframe\n",
    "importance_df = pd.DataFrame({\"feature\": X.columns, \"importance\": rfe.ranking_})\n",
    "\n",
    "# Sort the dataframe in descending order of importance\n",
    "sorted_importance_df = importance_df.sort_values(by=\"importance\", ascending=False)\n",
    "\n",
    "# Print the sorted feature importances\n",
    "print(\"Sorted Feature Importances:\")\n",
    "for index, row in sorted_importance_df.iterrows():\n",
    "    print(\"{}: {}\".format(row[\"feature\"], row[\"importance\"]))\n",
    "\n",
    "# Evaluate the model on the test set\n",
    "test_score = rfe.score(X_test, y_test)\n",
    "\n",
    "print(\"Test Score: {}\".format(test_score))"
   ]
  },
  {
   "cell_type": "markdown",
   "id": "ade6eeca",
   "metadata": {},
   "source": [
    "The test score tells us the accuracy at which rfe was able to predict the most important features during feature selection.\n",
    "\n",
    "Due to its accuracy being negative, I can conclude that the rfe model was not able to select the most important features. "
   ]
  },
  {
   "cell_type": "code",
   "execution_count": 31,
   "id": "70a6546a",
   "metadata": {},
   "outputs": [
    {
     "name": "stdout",
     "output_type": "stream",
     "text": [
      "Test accuracy: -3.97%\n",
      "R2 Score: -3.97%\n"
     ]
    }
   ],
   "source": [
    "# Make predictions\n",
    "y_pred = SVR_model.predict(X_test)\n",
    "\n",
    "# Calculate the accuracy of this SVR model\n",
    "test_accuracy = SVR_model.score(X_test, y_test)\n",
    "print(f\"Test accuracy: {np.round(test_accuracy * 100, 2)}%\")\n",
    "\n",
    "# Calculate the r2_score\n",
    "r2_score_ = r2_score(y_test,y_pred)\n",
    "print(f\"R2 Score: {np.round(r2_score_ * 100, 2)}%\")"
   ]
  },
  {
   "cell_type": "markdown",
   "id": "f1625148",
   "metadata": {},
   "source": [
    "kernal = poly"
   ]
  },
  {
   "cell_type": "code",
   "execution_count": 32,
   "id": "8f04c069",
   "metadata": {},
   "outputs": [
    {
     "data": {
      "text/plain": [
       "SVR(kernel='poly')"
      ]
     },
     "execution_count": 32,
     "metadata": {},
     "output_type": "execute_result"
    }
   ],
   "source": [
    "# Create the SVR model\n",
    "SVR_model_poly = SVR(kernel='poly')\n",
    "\n",
    "# Fir the model on scaled data\n",
    "SVR_model_poly.fit(X_train, y_train)"
   ]
  },
  {
   "cell_type": "code",
   "execution_count": 33,
   "id": "2600091d",
   "metadata": {},
   "outputs": [
    {
     "name": "stdout",
     "output_type": "stream",
     "text": [
      "Test accuracy: -3.97%\n",
      "R2 Score: -3.97%\n"
     ]
    }
   ],
   "source": [
    "# Make predictions\n",
    "y_pred = SVR_model_poly.predict(X_test)\n",
    "\n",
    "# Calculate the accuracy of this SVR model\n",
    "test_accuracy = SVR_model_poly.score(X_test, y_test)\n",
    "print(f\"Test accuracy: {np.round(test_accuracy * 100, 2)}%\")\n",
    "\n",
    "# Calculate the r2_score\n",
    "r2_score_ = r2_score(y_test,y_pred)\n",
    "print(f\"R2 Score: {np.round(r2_score_ * 100, 2)}%\")"
   ]
  },
  {
   "cell_type": "markdown",
   "id": "e74257c9",
   "metadata": {},
   "source": [
    "kernal = rbf"
   ]
  },
  {
   "cell_type": "code",
   "execution_count": 34,
   "id": "28b23fc9",
   "metadata": {},
   "outputs": [
    {
     "data": {
      "text/plain": [
       "SVR()"
      ]
     },
     "execution_count": 34,
     "metadata": {},
     "output_type": "execute_result"
    }
   ],
   "source": [
    "# Create the SVR model\n",
    "SVR_model_poly = SVR(kernel='rbf')\n",
    "\n",
    "# Fir the model on scaled data\n",
    "SVR_model_poly.fit(X_train, y_train)"
   ]
  },
  {
   "cell_type": "code",
   "execution_count": 35,
   "id": "2e2a5ce9",
   "metadata": {},
   "outputs": [
    {
     "name": "stdout",
     "output_type": "stream",
     "text": [
      "Test accuracy: -3.77%\n",
      "R2 Score: -3.97%\n"
     ]
    }
   ],
   "source": [
    "# Make predictions\n",
    "y_pred = SVR_model_poly.predict(X_test)\n",
    "\n",
    "# Calculate the accuracy of this SVR model\n",
    "test_accuracy = SVR_model_poly.score(X_train, y_train)\n",
    "print(f\"Test accuracy: {np.round(test_accuracy * 100, 2)}%\")\n",
    "\n",
    "# Calculate the r2_score\n",
    "r2_score_ = r2_score(y_test,y_pred)\n",
    "print(f\"R2 Score: {np.round(r2_score_ * 100, 2)}%\")"
   ]
  },
  {
   "cell_type": "markdown",
   "id": "02ad2b79",
   "metadata": {},
   "source": [
    "Note: Despite changing the kernal function, all three different kernal functions give us the same model accuracy."
   ]
  },
  {
   "cell_type": "markdown",
   "id": "04908033",
   "metadata": {},
   "source": [
    "Potential reasoning behind negative accuracy value:\n",
    "- There might still be extreme outliars in target values.\n",
    "\n",
    "Potential solve for the negative accuracy value:\n",
    "- Using different evaluation metrics such as instead of using R2 square, and accuracy score of model, we can use MSE (Mean Squared Error) which measure for us the average of squared differences between predicted and actual values. Lower MSE provides more accuracte prediction."
   ]
  },
  {
   "cell_type": "code",
   "execution_count": 36,
   "id": "6a27fe27",
   "metadata": {},
   "outputs": [
    {
     "name": "stdout",
     "output_type": "stream",
     "text": [
      "Mean Squared Error: 8.622134895569726e+23\n"
     ]
    }
   ],
   "source": [
    "# Calculating the MSE of above SVR model\n",
    "mse = mean_squared_error(y_test, y_pred)\n",
    "\n",
    "print(\"Mean Squared Error:\", mse)"
   ]
  }
 ],
 "metadata": {
  "kernelspec": {
   "display_name": "mlenv",
   "language": "python",
   "name": "mlenv"
  },
  "language_info": {
   "codemirror_mode": {
    "name": "ipython",
    "version": 3
   },
   "file_extension": ".py",
   "mimetype": "text/x-python",
   "name": "python",
   "nbconvert_exporter": "python",
   "pygments_lexer": "ipython3",
   "version": "3.7.15"
  }
 },
 "nbformat": 4,
 "nbformat_minor": 5
}
